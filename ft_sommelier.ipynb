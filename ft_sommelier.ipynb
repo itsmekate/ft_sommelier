{
 "cells": [
  {
   "cell_type": "markdown",
   "metadata": {},
   "source": [
    "# V.1 Exploring the green reds"
   ]
  },
  {
   "cell_type": "markdown",
   "metadata": {},
   "source": [
    "## a) & b) Plotting a scatterplot matrix"
   ]
  },
  {
   "cell_type": "code",
   "execution_count": null,
   "metadata": {},
   "outputs": [],
   "source": [
    "import csv\n",
    "import itertools\n",
    "import numpy as np\n",
    "import matplotlib.pyplot as plt\n",
    "\n",
    "def main():\n",
    "    with open('resources/winequality-red.csv', 'r') as f:\n",
    "        reader = list(csv.reader(f, delimiter=';', quoting=csv.QUOTE_NONE))\n",
    "        data = np.array(reader)\n",
    "#     fig = scatterplot_matrix(data, ['mpg', 'disp', 'drat'])\n",
    "    plt.show()\n",
    "\n",
    "def scatterplot_matrix(data, names, **kwargs):\n",
    "    numvars, numdata = data.shape\n",
    "    fig, axes = plt.subplots(nrows=numvars, ncols=numvars, figsize=(8,8))\n",
    "    fig.subplots_adjust(hspace=0.05, wspace=0.05)\n",
    "\n",
    "#     for ax in axes.flat:\n",
    "#         ax.xaxis.set_visible(False)\n",
    "#         ax.yaxis.set_visible(False)\n",
    "\n",
    "        # Set up ticks only on one side for the \"edge\" subplots...\n",
    "#         if ax.is_first_col():\n",
    "#             ax.yaxis.set_ticks_position('left')\n",
    "#         if ax.is_last_col():\n",
    "#             ax.yaxis.set_ticks_position('right')\n",
    "#         if ax.is_first_row():\n",
    "#             ax.xaxis.set_ticks_position('top')\n",
    "#         if ax.is_last_row():\n",
    "#             ax.xaxis.set_ticks_position('bottom')\n",
    "\n",
    "    # Plot the data.\n",
    "    for i, j in zip(*np.triu_indices_from(axes, k=1)):\n",
    "        for x, y in [(i,j), (j,i)]:\n",
    "            axes[x,y].plot(data[x], data[y], **kwargs)\n",
    "\n",
    "    # Label the diagonal subplots...\n",
    "#     for i, label in enumerate(names):\n",
    "#         axes[i,i].annotate(label, (0.5, 0.5), xycoords='axes fraction',\n",
    "#                 ha='center', va='center')\n",
    "\n",
    "    # Turn on the proper x or y axes ticks.\n",
    "#     for i, j in zip(range(numvars), itertools.cycle((-1, 0))):\n",
    "#         axes[j,i].xaxis.set_visible(True)\n",
    "#         axes[i,j].yaxis.set_visible(True)\n",
    "\n",
    "    return fig\n",
    "\n",
    "main()"
   ]
  },
  {
   "cell_type": "code",
   "execution_count": null,
   "metadata": {},
   "outputs": [],
   "source": []
  },
  {
   "cell_type": "code",
   "execution_count": null,
   "metadata": {},
   "outputs": [],
   "source": []
  }
 ],
 "metadata": {
  "kernelspec": {
   "display_name": "Python 3",
   "language": "python",
   "name": "python3"
  },
  "language_info": {
   "codemirror_mode": {
    "name": "ipython",
    "version": 3
   },
   "file_extension": ".py",
   "mimetype": "text/x-python",
   "name": "python",
   "nbconvert_exporter": "python",
   "pygments_lexer": "ipython3",
   "version": "3.6.2"
  }
 },
 "nbformat": 4,
 "nbformat_minor": 2
}
